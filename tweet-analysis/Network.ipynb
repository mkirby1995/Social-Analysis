{
 "cells": [
  {
   "cell_type": "code",
   "execution_count": 140,
   "metadata": {},
   "outputs": [],
   "source": [
    "from decouple import config\n",
    "import tweepy\n",
    "import basilica\n",
    "import pandas as pd\n",
    "import networkx as nx\n",
    "import matplotlib.pyplot as plt\n",
    "import plotly.graph_objects as go\n",
    "\n",
    "import matplotlib\n",
    "import matplotlib.cbook as cb\n",
    "from matplotlib.colors import colorConverter, Colormap\n",
    "from matplotlib.collections import LineCollection\n",
    "import numpy\n",
    "import networkx.drawing\n",
    "from networkx.drawing import nx_pylab\n",
    "\n",
    "#import dash\n",
    "#import dash_cytoscape as cyto\n",
    "#import dash_html_components as html\n",
    "\n",
    "#Import Keys\n",
    "TWITTER_AUTH = tweepy.OAuthHandler(\n",
    "    config('TWITTER_CONSUMER_KEY'),\n",
    "    config('TWITTER_CONSUMER_SECRET'))\n",
    "TWITTER_AUTH.set_access_token(\n",
    "    config('TWITTER_ACCESS_TOKEN'),\n",
    "    config('TWITTER_ACCESS_TOKEN_SECRET'))\n",
    "TWITTER = tweepy.API(TWITTER_AUTH)\n",
    "BASILICA = basilica.Connection(config('BASILICA_KEY'))"
   ]
  },
  {
   "cell_type": "code",
   "execution_count": 141,
   "metadata": {},
   "outputs": [
    {
     "ename": "RateLimitError",
     "evalue": "[{'message': 'Rate limit exceeded', 'code': 88}]",
     "output_type": "error",
     "traceback": [
      "\u001b[0;31m---------------------------------------------------------------------------\u001b[0m",
      "\u001b[0;31mRateLimitError\u001b[0m                            Traceback (most recent call last)",
      "\u001b[0;32m<ipython-input-141-aaabbb50ae8e>\u001b[0m in \u001b[0;36m<module>\u001b[0;34m\u001b[0m\n\u001b[1;32m      1\u001b[0m \u001b[0;31m# Create user object\u001b[0m\u001b[0;34m\u001b[0m\u001b[0;34m\u001b[0m\u001b[0;34m\u001b[0m\u001b[0m\n\u001b[1;32m      2\u001b[0m \u001b[0;34m\u001b[0m\u001b[0m\n\u001b[0;32m----> 3\u001b[0;31m \u001b[0muser_1\u001b[0m \u001b[0;34m=\u001b[0m \u001b[0mTWITTER\u001b[0m\u001b[0;34m.\u001b[0m\u001b[0mget_user\u001b[0m\u001b[0;34m(\u001b[0m\u001b[0;34m'matt42kirby'\u001b[0m\u001b[0;34m)\u001b[0m\u001b[0;34m\u001b[0m\u001b[0;34m\u001b[0m\u001b[0m\n\u001b[0m",
      "\u001b[0;32m~/opt/anaconda3/envs/tweet_analysis/lib/python3.6/site-packages/tweepy/binder.py\u001b[0m in \u001b[0;36m_call\u001b[0;34m(*args, **kwargs)\u001b[0m\n\u001b[1;32m    248\u001b[0m                 \u001b[0;32mreturn\u001b[0m \u001b[0mmethod\u001b[0m\u001b[0;34m\u001b[0m\u001b[0;34m\u001b[0m\u001b[0m\n\u001b[1;32m    249\u001b[0m             \u001b[0;32melse\u001b[0m\u001b[0;34m:\u001b[0m\u001b[0;34m\u001b[0m\u001b[0;34m\u001b[0m\u001b[0m\n\u001b[0;32m--> 250\u001b[0;31m                 \u001b[0;32mreturn\u001b[0m \u001b[0mmethod\u001b[0m\u001b[0;34m.\u001b[0m\u001b[0mexecute\u001b[0m\u001b[0;34m(\u001b[0m\u001b[0;34m)\u001b[0m\u001b[0;34m\u001b[0m\u001b[0;34m\u001b[0m\u001b[0m\n\u001b[0m\u001b[1;32m    251\u001b[0m         \u001b[0;32mfinally\u001b[0m\u001b[0;34m:\u001b[0m\u001b[0;34m\u001b[0m\u001b[0;34m\u001b[0m\u001b[0m\n\u001b[1;32m    252\u001b[0m             \u001b[0mmethod\u001b[0m\u001b[0;34m.\u001b[0m\u001b[0msession\u001b[0m\u001b[0;34m.\u001b[0m\u001b[0mclose\u001b[0m\u001b[0;34m(\u001b[0m\u001b[0;34m)\u001b[0m\u001b[0;34m\u001b[0m\u001b[0;34m\u001b[0m\u001b[0m\n",
      "\u001b[0;32m~/opt/anaconda3/envs/tweet_analysis/lib/python3.6/site-packages/tweepy/binder.py\u001b[0m in \u001b[0;36mexecute\u001b[0;34m(self)\u001b[0m\n\u001b[1;32m    229\u001b[0m \u001b[0;34m\u001b[0m\u001b[0m\n\u001b[1;32m    230\u001b[0m                 \u001b[0;32mif\u001b[0m \u001b[0mis_rate_limit_error_message\u001b[0m\u001b[0;34m(\u001b[0m\u001b[0merror_msg\u001b[0m\u001b[0;34m)\u001b[0m\u001b[0;34m:\u001b[0m\u001b[0;34m\u001b[0m\u001b[0;34m\u001b[0m\u001b[0m\n\u001b[0;32m--> 231\u001b[0;31m                     \u001b[0;32mraise\u001b[0m \u001b[0mRateLimitError\u001b[0m\u001b[0;34m(\u001b[0m\u001b[0merror_msg\u001b[0m\u001b[0;34m,\u001b[0m \u001b[0mresp\u001b[0m\u001b[0;34m)\u001b[0m\u001b[0;34m\u001b[0m\u001b[0;34m\u001b[0m\u001b[0m\n\u001b[0m\u001b[1;32m    232\u001b[0m                 \u001b[0;32melse\u001b[0m\u001b[0;34m:\u001b[0m\u001b[0;34m\u001b[0m\u001b[0;34m\u001b[0m\u001b[0m\n\u001b[1;32m    233\u001b[0m                     \u001b[0;32mraise\u001b[0m \u001b[0mTweepError\u001b[0m\u001b[0;34m(\u001b[0m\u001b[0merror_msg\u001b[0m\u001b[0;34m,\u001b[0m \u001b[0mresp\u001b[0m\u001b[0;34m,\u001b[0m \u001b[0mapi_code\u001b[0m\u001b[0;34m=\u001b[0m\u001b[0mapi_error_code\u001b[0m\u001b[0;34m)\u001b[0m\u001b[0;34m\u001b[0m\u001b[0;34m\u001b[0m\u001b[0m\n",
      "\u001b[0;31mRateLimitError\u001b[0m: [{'message': 'Rate limit exceeded', 'code': 88}]"
     ]
    }
   ],
   "source": [
    "# Create user object\n",
    "\n",
    "user_1 = TWITTER.get_user('matt42kirby')"
   ]
  },
  {
   "cell_type": "code",
   "execution_count": 142,
   "metadata": {},
   "outputs": [
    {
     "ename": "RateLimitError",
     "evalue": "[{'message': 'Rate limit exceeded', 'code': 88}]",
     "output_type": "error",
     "traceback": [
      "\u001b[0;31m---------------------------------------------------------------------------\u001b[0m",
      "\u001b[0;31mRateLimitError\u001b[0m                            Traceback (most recent call last)",
      "\u001b[0;32m<ipython-input-142-589c690154b9>\u001b[0m in \u001b[0;36m<module>\u001b[0;34m\u001b[0m\n\u001b[0;32m----> 1\u001b[0;31m \u001b[0muser_2\u001b[0m \u001b[0;34m=\u001b[0m \u001b[0mTWITTER\u001b[0m\u001b[0;34m.\u001b[0m\u001b[0mget_user\u001b[0m\u001b[0;34m(\u001b[0m\u001b[0;34m\"itsamececily\"\u001b[0m\u001b[0;34m)\u001b[0m\u001b[0;34m\u001b[0m\u001b[0;34m\u001b[0m\u001b[0m\n\u001b[0m",
      "\u001b[0;32m~/opt/anaconda3/envs/tweet_analysis/lib/python3.6/site-packages/tweepy/binder.py\u001b[0m in \u001b[0;36m_call\u001b[0;34m(*args, **kwargs)\u001b[0m\n\u001b[1;32m    248\u001b[0m                 \u001b[0;32mreturn\u001b[0m \u001b[0mmethod\u001b[0m\u001b[0;34m\u001b[0m\u001b[0;34m\u001b[0m\u001b[0m\n\u001b[1;32m    249\u001b[0m             \u001b[0;32melse\u001b[0m\u001b[0;34m:\u001b[0m\u001b[0;34m\u001b[0m\u001b[0;34m\u001b[0m\u001b[0m\n\u001b[0;32m--> 250\u001b[0;31m                 \u001b[0;32mreturn\u001b[0m \u001b[0mmethod\u001b[0m\u001b[0;34m.\u001b[0m\u001b[0mexecute\u001b[0m\u001b[0;34m(\u001b[0m\u001b[0;34m)\u001b[0m\u001b[0;34m\u001b[0m\u001b[0;34m\u001b[0m\u001b[0m\n\u001b[0m\u001b[1;32m    251\u001b[0m         \u001b[0;32mfinally\u001b[0m\u001b[0;34m:\u001b[0m\u001b[0;34m\u001b[0m\u001b[0;34m\u001b[0m\u001b[0m\n\u001b[1;32m    252\u001b[0m             \u001b[0mmethod\u001b[0m\u001b[0;34m.\u001b[0m\u001b[0msession\u001b[0m\u001b[0;34m.\u001b[0m\u001b[0mclose\u001b[0m\u001b[0;34m(\u001b[0m\u001b[0;34m)\u001b[0m\u001b[0;34m\u001b[0m\u001b[0;34m\u001b[0m\u001b[0m\n",
      "\u001b[0;32m~/opt/anaconda3/envs/tweet_analysis/lib/python3.6/site-packages/tweepy/binder.py\u001b[0m in \u001b[0;36mexecute\u001b[0;34m(self)\u001b[0m\n\u001b[1;32m    229\u001b[0m \u001b[0;34m\u001b[0m\u001b[0m\n\u001b[1;32m    230\u001b[0m                 \u001b[0;32mif\u001b[0m \u001b[0mis_rate_limit_error_message\u001b[0m\u001b[0;34m(\u001b[0m\u001b[0merror_msg\u001b[0m\u001b[0;34m)\u001b[0m\u001b[0;34m:\u001b[0m\u001b[0;34m\u001b[0m\u001b[0;34m\u001b[0m\u001b[0m\n\u001b[0;32m--> 231\u001b[0;31m                     \u001b[0;32mraise\u001b[0m \u001b[0mRateLimitError\u001b[0m\u001b[0;34m(\u001b[0m\u001b[0merror_msg\u001b[0m\u001b[0;34m,\u001b[0m \u001b[0mresp\u001b[0m\u001b[0;34m)\u001b[0m\u001b[0;34m\u001b[0m\u001b[0;34m\u001b[0m\u001b[0m\n\u001b[0m\u001b[1;32m    232\u001b[0m                 \u001b[0;32melse\u001b[0m\u001b[0;34m:\u001b[0m\u001b[0;34m\u001b[0m\u001b[0;34m\u001b[0m\u001b[0m\n\u001b[1;32m    233\u001b[0m                     \u001b[0;32mraise\u001b[0m \u001b[0mTweepError\u001b[0m\u001b[0;34m(\u001b[0m\u001b[0merror_msg\u001b[0m\u001b[0;34m,\u001b[0m \u001b[0mresp\u001b[0m\u001b[0;34m,\u001b[0m \u001b[0mapi_code\u001b[0m\u001b[0;34m=\u001b[0m\u001b[0mapi_error_code\u001b[0m\u001b[0;34m)\u001b[0m\u001b[0;34m\u001b[0m\u001b[0;34m\u001b[0m\u001b[0m\n",
      "\u001b[0;31mRateLimitError\u001b[0m: [{'message': 'Rate limit exceeded', 'code': 88}]"
     ]
    }
   ],
   "source": [
    "user_2 = TWITTER.get_user(\"itsamececily\")"
   ]
  },
  {
   "cell_type": "code",
   "execution_count": 136,
   "metadata": {},
   "outputs": [],
   "source": [
    "def create_follower_graph(user):\n",
    "    # Fetch follower ids\n",
    "    followers = user.followers_ids()[:20]\n",
    "\n",
    "    # Create dict with follower ids and screen names\n",
    "    follower_dict = {follower: TWITTER.get_user(follower).screen_name for follower in followers}\n",
    "    \n",
    "    # Initialize Graph\n",
    "    user_graph = nx.DiGraph()\n",
    "\n",
    "    # Add nodes for followers\n",
    "    user_graph.add_nodes_from(follower_dict)\n",
    "\n",
    "    # Add follower edges\n",
    "    for i in list(follower_dict.keys()):\n",
    "        user_graph.add_edge(i, user.id)\n",
    "        \n",
    "    return user_graph"
   ]
  },
  {
   "cell_type": "code",
   "execution_count": 137,
   "metadata": {},
   "outputs": [
    {
     "ename": "RateLimitError",
     "evalue": "[{'message': 'Rate limit exceeded', 'code': 88}]",
     "output_type": "error",
     "traceback": [
      "\u001b[0;31m---------------------------------------------------------------------------\u001b[0m",
      "\u001b[0;31mRateLimitError\u001b[0m                            Traceback (most recent call last)",
      "\u001b[0;32m<ipython-input-137-83c33496ccfd>\u001b[0m in \u001b[0;36m<module>\u001b[0;34m\u001b[0m\n\u001b[0;32m----> 1\u001b[0;31m \u001b[0mgraph_1\u001b[0m \u001b[0;34m=\u001b[0m \u001b[0mcreate_follower_graph\u001b[0m\u001b[0;34m(\u001b[0m\u001b[0muser_1\u001b[0m\u001b[0;34m)\u001b[0m\u001b[0;34m\u001b[0m\u001b[0;34m\u001b[0m\u001b[0m\n\u001b[0m\u001b[1;32m      2\u001b[0m \u001b[0mgraph_2\u001b[0m \u001b[0;34m=\u001b[0m \u001b[0mcreate_follower_graph\u001b[0m\u001b[0;34m(\u001b[0m\u001b[0muser_2\u001b[0m\u001b[0;34m)\u001b[0m\u001b[0;34m\u001b[0m\u001b[0;34m\u001b[0m\u001b[0m\n",
      "\u001b[0;32m<ipython-input-136-79c759c2b6d7>\u001b[0m in \u001b[0;36mcreate_follower_graph\u001b[0;34m(user)\u001b[0m\n\u001b[1;32m      4\u001b[0m \u001b[0;34m\u001b[0m\u001b[0m\n\u001b[1;32m      5\u001b[0m     \u001b[0;31m# Create dict with follower ids and screen names\u001b[0m\u001b[0;34m\u001b[0m\u001b[0;34m\u001b[0m\u001b[0;34m\u001b[0m\u001b[0m\n\u001b[0;32m----> 6\u001b[0;31m     \u001b[0mfollower_dict\u001b[0m \u001b[0;34m=\u001b[0m \u001b[0;34m{\u001b[0m\u001b[0mfollower\u001b[0m\u001b[0;34m:\u001b[0m \u001b[0mTWITTER\u001b[0m\u001b[0;34m.\u001b[0m\u001b[0mget_user\u001b[0m\u001b[0;34m(\u001b[0m\u001b[0mfollower\u001b[0m\u001b[0;34m)\u001b[0m\u001b[0;34m.\u001b[0m\u001b[0mscreen_name\u001b[0m \u001b[0;32mfor\u001b[0m \u001b[0mfollower\u001b[0m \u001b[0;32min\u001b[0m \u001b[0mfollowers\u001b[0m\u001b[0;34m}\u001b[0m\u001b[0;34m\u001b[0m\u001b[0;34m\u001b[0m\u001b[0m\n\u001b[0m\u001b[1;32m      7\u001b[0m \u001b[0;34m\u001b[0m\u001b[0m\n\u001b[1;32m      8\u001b[0m \u001b[0;34m\u001b[0m\u001b[0m\n",
      "\u001b[0;32m<ipython-input-136-79c759c2b6d7>\u001b[0m in \u001b[0;36m<dictcomp>\u001b[0;34m(.0)\u001b[0m\n\u001b[1;32m      4\u001b[0m \u001b[0;34m\u001b[0m\u001b[0m\n\u001b[1;32m      5\u001b[0m     \u001b[0;31m# Create dict with follower ids and screen names\u001b[0m\u001b[0;34m\u001b[0m\u001b[0;34m\u001b[0m\u001b[0;34m\u001b[0m\u001b[0m\n\u001b[0;32m----> 6\u001b[0;31m     \u001b[0mfollower_dict\u001b[0m \u001b[0;34m=\u001b[0m \u001b[0;34m{\u001b[0m\u001b[0mfollower\u001b[0m\u001b[0;34m:\u001b[0m \u001b[0mTWITTER\u001b[0m\u001b[0;34m.\u001b[0m\u001b[0mget_user\u001b[0m\u001b[0;34m(\u001b[0m\u001b[0mfollower\u001b[0m\u001b[0;34m)\u001b[0m\u001b[0;34m.\u001b[0m\u001b[0mscreen_name\u001b[0m \u001b[0;32mfor\u001b[0m \u001b[0mfollower\u001b[0m \u001b[0;32min\u001b[0m \u001b[0mfollowers\u001b[0m\u001b[0;34m}\u001b[0m\u001b[0;34m\u001b[0m\u001b[0;34m\u001b[0m\u001b[0m\n\u001b[0m\u001b[1;32m      7\u001b[0m \u001b[0;34m\u001b[0m\u001b[0m\n\u001b[1;32m      8\u001b[0m \u001b[0;34m\u001b[0m\u001b[0m\n",
      "\u001b[0;32m~/opt/anaconda3/envs/tweet_analysis/lib/python3.6/site-packages/tweepy/binder.py\u001b[0m in \u001b[0;36m_call\u001b[0;34m(*args, **kwargs)\u001b[0m\n\u001b[1;32m    248\u001b[0m                 \u001b[0;32mreturn\u001b[0m \u001b[0mmethod\u001b[0m\u001b[0;34m\u001b[0m\u001b[0;34m\u001b[0m\u001b[0m\n\u001b[1;32m    249\u001b[0m             \u001b[0;32melse\u001b[0m\u001b[0;34m:\u001b[0m\u001b[0;34m\u001b[0m\u001b[0;34m\u001b[0m\u001b[0m\n\u001b[0;32m--> 250\u001b[0;31m                 \u001b[0;32mreturn\u001b[0m \u001b[0mmethod\u001b[0m\u001b[0;34m.\u001b[0m\u001b[0mexecute\u001b[0m\u001b[0;34m(\u001b[0m\u001b[0;34m)\u001b[0m\u001b[0;34m\u001b[0m\u001b[0;34m\u001b[0m\u001b[0m\n\u001b[0m\u001b[1;32m    251\u001b[0m         \u001b[0;32mfinally\u001b[0m\u001b[0;34m:\u001b[0m\u001b[0;34m\u001b[0m\u001b[0;34m\u001b[0m\u001b[0m\n\u001b[1;32m    252\u001b[0m             \u001b[0mmethod\u001b[0m\u001b[0;34m.\u001b[0m\u001b[0msession\u001b[0m\u001b[0;34m.\u001b[0m\u001b[0mclose\u001b[0m\u001b[0;34m(\u001b[0m\u001b[0;34m)\u001b[0m\u001b[0;34m\u001b[0m\u001b[0;34m\u001b[0m\u001b[0m\n",
      "\u001b[0;32m~/opt/anaconda3/envs/tweet_analysis/lib/python3.6/site-packages/tweepy/binder.py\u001b[0m in \u001b[0;36mexecute\u001b[0;34m(self)\u001b[0m\n\u001b[1;32m    229\u001b[0m \u001b[0;34m\u001b[0m\u001b[0m\n\u001b[1;32m    230\u001b[0m                 \u001b[0;32mif\u001b[0m \u001b[0mis_rate_limit_error_message\u001b[0m\u001b[0;34m(\u001b[0m\u001b[0merror_msg\u001b[0m\u001b[0;34m)\u001b[0m\u001b[0;34m:\u001b[0m\u001b[0;34m\u001b[0m\u001b[0;34m\u001b[0m\u001b[0m\n\u001b[0;32m--> 231\u001b[0;31m                     \u001b[0;32mraise\u001b[0m \u001b[0mRateLimitError\u001b[0m\u001b[0;34m(\u001b[0m\u001b[0merror_msg\u001b[0m\u001b[0;34m,\u001b[0m \u001b[0mresp\u001b[0m\u001b[0;34m)\u001b[0m\u001b[0;34m\u001b[0m\u001b[0;34m\u001b[0m\u001b[0m\n\u001b[0m\u001b[1;32m    232\u001b[0m                 \u001b[0;32melse\u001b[0m\u001b[0;34m:\u001b[0m\u001b[0;34m\u001b[0m\u001b[0;34m\u001b[0m\u001b[0m\n\u001b[1;32m    233\u001b[0m                     \u001b[0;32mraise\u001b[0m \u001b[0mTweepError\u001b[0m\u001b[0;34m(\u001b[0m\u001b[0merror_msg\u001b[0m\u001b[0;34m,\u001b[0m \u001b[0mresp\u001b[0m\u001b[0;34m,\u001b[0m \u001b[0mapi_code\u001b[0m\u001b[0;34m=\u001b[0m\u001b[0mapi_error_code\u001b[0m\u001b[0;34m)\u001b[0m\u001b[0;34m\u001b[0m\u001b[0;34m\u001b[0m\u001b[0m\n",
      "\u001b[0;31mRateLimitError\u001b[0m: [{'message': 'Rate limit exceeded', 'code': 88}]"
     ]
    }
   ],
   "source": [
    "graph_1 = create_follower_graph(user_1)\n",
    "graph_2 = create_follower_graph(user_2)"
   ]
  },
  {
   "cell_type": "code",
   "execution_count": 138,
   "metadata": {},
   "outputs": [],
   "source": [
    "def get_html_elements(user_graph):\n",
    "    pos = nx.random_layout(user_graph)\n",
    "    elements =  []\n",
    "\n",
    "    # Insert nodes\n",
    "    for node in pos:\n",
    "        elements.append({\"data\":{\n",
    "                                \"id\": str(node), \"label\": str(node)},\n",
    "                            \"position\": {\n",
    "                                \"x\": float(pos[node][0]), \"y\": float(pos[node][1])}})\n",
    "\n",
    "    # Insert edges\n",
    "    for edge in user_graph.edges():\n",
    "        elements.append({\"data\": {\"source\": str(edge[0]), \"target\": str(edge[1])}})\n",
    "        \n",
    "    return elements"
   ]
  },
  {
   "cell_type": "code",
   "execution_count": 139,
   "metadata": {},
   "outputs": [
    {
     "ename": "NameError",
     "evalue": "name 'graph_1' is not defined",
     "output_type": "error",
     "traceback": [
      "\u001b[0;31m---------------------------------------------------------------------------\u001b[0m",
      "\u001b[0;31mNameError\u001b[0m                                 Traceback (most recent call last)",
      "\u001b[0;32m<ipython-input-139-ffc91c2d4386>\u001b[0m in \u001b[0;36m<module>\u001b[0;34m\u001b[0m\n\u001b[0;32m----> 1\u001b[0;31m \u001b[0melements\u001b[0m \u001b[0;34m=\u001b[0m \u001b[0mget_html_elements\u001b[0m\u001b[0;34m(\u001b[0m\u001b[0mgraph_1\u001b[0m\u001b[0;34m)\u001b[0m \u001b[0;34m+\u001b[0m \u001b[0mget_html_elements\u001b[0m\u001b[0;34m(\u001b[0m\u001b[0mgraph_2\u001b[0m\u001b[0;34m)\u001b[0m\u001b[0;34m\u001b[0m\u001b[0;34m\u001b[0m\u001b[0m\n\u001b[0m",
      "\u001b[0;31mNameError\u001b[0m: name 'graph_1' is not defined"
     ]
    }
   ],
   "source": [
    "elements = get_html_elements(graph_1) + get_html_elements(graph_2)"
   ]
  },
  {
   "cell_type": "code",
   "execution_count": 10,
   "metadata": {},
   "outputs": [],
   "source": [
    "G = user_graph"
   ]
  },
  {
   "cell_type": "code",
   "execution_count": 89,
   "metadata": {},
   "outputs": [],
   "source": []
  },
  {
   "cell_type": "code",
   "execution_count": 91,
   "metadata": {},
   "outputs": [],
   "source": [
    "edge_x = []\n",
    "edge_y = []\n",
    "for edge in G.edges():\n",
    "    x0, y0 = pos[edge[0]][0], pos[edge[0]][1]\n",
    "    x1, y1 = pos[edge[1]][0], pos[edge[1]][1]\n",
    "    edge_x.append(x0)\n",
    "    edge_x.append(x1)\n",
    "    edge_x.append(None)\n",
    "    edge_y.append(y0)\n",
    "    edge_y.append(y1)\n",
    "    edge_y.append(None)\n",
    "\n",
    "edge_trace = go.Scatter(\n",
    "    x=edge_x, y=edge_y,\n",
    "    line=dict(width=0.5, color='#888'),\n",
    "    hoverinfo='none',\n",
    "    mode='lines')"
   ]
  },
  {
   "cell_type": "code",
   "execution_count": 92,
   "metadata": {},
   "outputs": [],
   "source": [
    "node_x = []\n",
    "node_y = []\n",
    "for node in G.nodes():\n",
    "    x, y = pos[node][0], pos[node][1]\n",
    "    node_x.append(x)\n",
    "    node_y.append(y)\n",
    "\n",
    "node_trace = go.Scatter(\n",
    "    x=node_x, y=node_y,\n",
    "    mode='markers',\n",
    "    hoverinfo='text',\n",
    "    marker=dict(\n",
    "        showscale=True,\n",
    "        # colorscale options\n",
    "        #'Greys' | 'YlGnBu' | 'Greens' | 'YlOrRd' | 'Bluered' | 'RdBu' |\n",
    "        #'Reds' | 'Blues' | 'Picnic' | 'Rainbow' | 'Portland' | 'Jet' |\n",
    "        #'Hot' | 'Blackbody' | 'Earth' | 'Electric' | 'Viridis' |\n",
    "        colorscale='YlGnBu',\n",
    "        reversescale=True,\n",
    "        color=[],\n",
    "        size=10,\n",
    "        colorbar=dict(\n",
    "            thickness=15,\n",
    "            title='Node Connections',\n",
    "            xanchor='left',\n",
    "            titleside='right'\n",
    "        ),\n",
    "        line_width=2))"
   ]
  },
  {
   "cell_type": "code",
   "execution_count": 93,
   "metadata": {},
   "outputs": [],
   "source": [
    "#d = dict(TWITTER.rate_limit_status())\n",
    "#d"
   ]
  },
  {
   "cell_type": "code",
   "execution_count": 94,
   "metadata": {},
   "outputs": [],
   "source": [
    "node_adjacencies = []\n",
    "node_text = []\n",
    "for node, adjacencies in enumerate(G.adjacency()):\n",
    "    node_adjacencies.append(len(adjacencies[1]))\n",
    "    node_text.append('# of connections: '+str(len(adjacencies[1])))\n",
    "\n",
    "node_trace.marker.color = node_adjacencies\n",
    "node_trace.text = node_text"
   ]
  },
  {
   "cell_type": "code",
   "execution_count": 95,
   "metadata": {},
   "outputs": [
    {
     "data": {
      "application/vnd.plotly.v1+json": {
       "config": {
        "plotlyServerURL": "https://plot.ly"
       },
       "data": [
        {
         "hoverinfo": "none",
         "line": {
          "color": "#888",
          "width": 0.5
         },
         "mode": "lines",
         "type": "scatter",
         "x": [
          0.2144360989332199,
          0.6836008429527283,
          null,
          0.3921436667442322,
          0.6836008429527283,
          null,
          0.09978185594081879,
          0.6836008429527283,
          null,
          0.635555624961853,
          0.6836008429527283,
          null,
          0.9507686495780945,
          0.6836008429527283,
          null,
          0.619988203048706,
          0.6836008429527283,
          null,
          0.4894177317619324,
          0.6836008429527283,
          null,
          0.4045814573764801,
          0.6836008429527283,
          null,
          0.18056459724903107,
          0.6836008429527283,
          null,
          0.09028499573469162,
          0.6836008429527283,
          null
         ],
         "y": [
          0.1685742884874344,
          0.2824505865573883,
          null,
          0.3510868549346924,
          0.2824505865573883,
          null,
          0.9714733362197876,
          0.2824505865573883,
          null,
          0.9414101243019104,
          0.2824505865573883,
          null,
          0.439740926027298,
          0.2824505865573883,
          null,
          0.5295195579528809,
          0.2824505865573883,
          null,
          0.7145042419433594,
          0.2824505865573883,
          null,
          0.14504779875278473,
          0.2824505865573883,
          null,
          0.931752622127533,
          0.2824505865573883,
          null,
          0.0748245045542717,
          0.2824505865573883,
          null
         ]
        },
        {
         "hoverinfo": "text",
         "marker": {
          "color": [
           1,
           1,
           1,
           1,
           1,
           1,
           1,
           1,
           1,
           1,
           0
          ],
          "colorbar": {
           "thickness": 15,
           "title": {
            "side": "right",
            "text": "Node Connections"
           },
           "xanchor": "left"
          },
          "colorscale": [
           [
            0,
            "rgb(255,255,217)"
           ],
           [
            0.125,
            "rgb(237,248,177)"
           ],
           [
            0.25,
            "rgb(199,233,180)"
           ],
           [
            0.375,
            "rgb(127,205,187)"
           ],
           [
            0.5,
            "rgb(65,182,196)"
           ],
           [
            0.625,
            "rgb(29,145,192)"
           ],
           [
            0.75,
            "rgb(34,94,168)"
           ],
           [
            0.875,
            "rgb(37,52,148)"
           ],
           [
            1,
            "rgb(8,29,88)"
           ]
          ],
          "line": {
           "width": 2
          },
          "reversescale": true,
          "showscale": true,
          "size": 10
         },
         "mode": "markers",
         "text": [
          "# of connections: 1",
          "# of connections: 1",
          "# of connections: 1",
          "# of connections: 1",
          "# of connections: 1",
          "# of connections: 1",
          "# of connections: 1",
          "# of connections: 1",
          "# of connections: 1",
          "# of connections: 1",
          "# of connections: 0"
         ],
         "type": "scatter",
         "x": [
          0.2144360989332199,
          0.3921436667442322,
          0.09978185594081879,
          0.635555624961853,
          0.9507686495780945,
          0.619988203048706,
          0.4894177317619324,
          0.4045814573764801,
          0.18056459724903107,
          0.09028499573469162,
          0.6836008429527283
         ],
         "y": [
          0.1685742884874344,
          0.3510868549346924,
          0.9714733362197876,
          0.9414101243019104,
          0.439740926027298,
          0.5295195579528809,
          0.7145042419433594,
          0.14504779875278473,
          0.931752622127533,
          0.0748245045542717,
          0.2824505865573883
         ]
        }
       ],
       "layout": {
        "annotations": [
         {
          "showarrow": false,
          "text": "Python code: <a href='https://plot.ly/ipython-notebooks/network-graphs/'> https://plot.ly/ipython-notebooks/network-graphs/</a>",
          "x": 0.005,
          "xref": "paper",
          "y": -0.002,
          "yref": "paper"
         }
        ],
        "autosize": true,
        "hovermode": "closest",
        "margin": {
         "b": 20,
         "l": 5,
         "r": 5,
         "t": 40
        },
        "showlegend": false,
        "template": {
         "data": {
          "bar": [
           {
            "error_x": {
             "color": "#2a3f5f"
            },
            "error_y": {
             "color": "#2a3f5f"
            },
            "marker": {
             "line": {
              "color": "#E5ECF6",
              "width": 0.5
             }
            },
            "type": "bar"
           }
          ],
          "barpolar": [
           {
            "marker": {
             "line": {
              "color": "#E5ECF6",
              "width": 0.5
             }
            },
            "type": "barpolar"
           }
          ],
          "carpet": [
           {
            "aaxis": {
             "endlinecolor": "#2a3f5f",
             "gridcolor": "white",
             "linecolor": "white",
             "minorgridcolor": "white",
             "startlinecolor": "#2a3f5f"
            },
            "baxis": {
             "endlinecolor": "#2a3f5f",
             "gridcolor": "white",
             "linecolor": "white",
             "minorgridcolor": "white",
             "startlinecolor": "#2a3f5f"
            },
            "type": "carpet"
           }
          ],
          "choropleth": [
           {
            "colorbar": {
             "outlinewidth": 0,
             "ticks": ""
            },
            "type": "choropleth"
           }
          ],
          "contour": [
           {
            "colorbar": {
             "outlinewidth": 0,
             "ticks": ""
            },
            "colorscale": [
             [
              0,
              "#0d0887"
             ],
             [
              0.1111111111111111,
              "#46039f"
             ],
             [
              0.2222222222222222,
              "#7201a8"
             ],
             [
              0.3333333333333333,
              "#9c179e"
             ],
             [
              0.4444444444444444,
              "#bd3786"
             ],
             [
              0.5555555555555556,
              "#d8576b"
             ],
             [
              0.6666666666666666,
              "#ed7953"
             ],
             [
              0.7777777777777778,
              "#fb9f3a"
             ],
             [
              0.8888888888888888,
              "#fdca26"
             ],
             [
              1,
              "#f0f921"
             ]
            ],
            "type": "contour"
           }
          ],
          "contourcarpet": [
           {
            "colorbar": {
             "outlinewidth": 0,
             "ticks": ""
            },
            "type": "contourcarpet"
           }
          ],
          "heatmap": [
           {
            "colorbar": {
             "outlinewidth": 0,
             "ticks": ""
            },
            "colorscale": [
             [
              0,
              "#0d0887"
             ],
             [
              0.1111111111111111,
              "#46039f"
             ],
             [
              0.2222222222222222,
              "#7201a8"
             ],
             [
              0.3333333333333333,
              "#9c179e"
             ],
             [
              0.4444444444444444,
              "#bd3786"
             ],
             [
              0.5555555555555556,
              "#d8576b"
             ],
             [
              0.6666666666666666,
              "#ed7953"
             ],
             [
              0.7777777777777778,
              "#fb9f3a"
             ],
             [
              0.8888888888888888,
              "#fdca26"
             ],
             [
              1,
              "#f0f921"
             ]
            ],
            "type": "heatmap"
           }
          ],
          "heatmapgl": [
           {
            "colorbar": {
             "outlinewidth": 0,
             "ticks": ""
            },
            "colorscale": [
             [
              0,
              "#0d0887"
             ],
             [
              0.1111111111111111,
              "#46039f"
             ],
             [
              0.2222222222222222,
              "#7201a8"
             ],
             [
              0.3333333333333333,
              "#9c179e"
             ],
             [
              0.4444444444444444,
              "#bd3786"
             ],
             [
              0.5555555555555556,
              "#d8576b"
             ],
             [
              0.6666666666666666,
              "#ed7953"
             ],
             [
              0.7777777777777778,
              "#fb9f3a"
             ],
             [
              0.8888888888888888,
              "#fdca26"
             ],
             [
              1,
              "#f0f921"
             ]
            ],
            "type": "heatmapgl"
           }
          ],
          "histogram": [
           {
            "marker": {
             "colorbar": {
              "outlinewidth": 0,
              "ticks": ""
             }
            },
            "type": "histogram"
           }
          ],
          "histogram2d": [
           {
            "colorbar": {
             "outlinewidth": 0,
             "ticks": ""
            },
            "colorscale": [
             [
              0,
              "#0d0887"
             ],
             [
              0.1111111111111111,
              "#46039f"
             ],
             [
              0.2222222222222222,
              "#7201a8"
             ],
             [
              0.3333333333333333,
              "#9c179e"
             ],
             [
              0.4444444444444444,
              "#bd3786"
             ],
             [
              0.5555555555555556,
              "#d8576b"
             ],
             [
              0.6666666666666666,
              "#ed7953"
             ],
             [
              0.7777777777777778,
              "#fb9f3a"
             ],
             [
              0.8888888888888888,
              "#fdca26"
             ],
             [
              1,
              "#f0f921"
             ]
            ],
            "type": "histogram2d"
           }
          ],
          "histogram2dcontour": [
           {
            "colorbar": {
             "outlinewidth": 0,
             "ticks": ""
            },
            "colorscale": [
             [
              0,
              "#0d0887"
             ],
             [
              0.1111111111111111,
              "#46039f"
             ],
             [
              0.2222222222222222,
              "#7201a8"
             ],
             [
              0.3333333333333333,
              "#9c179e"
             ],
             [
              0.4444444444444444,
              "#bd3786"
             ],
             [
              0.5555555555555556,
              "#d8576b"
             ],
             [
              0.6666666666666666,
              "#ed7953"
             ],
             [
              0.7777777777777778,
              "#fb9f3a"
             ],
             [
              0.8888888888888888,
              "#fdca26"
             ],
             [
              1,
              "#f0f921"
             ]
            ],
            "type": "histogram2dcontour"
           }
          ],
          "mesh3d": [
           {
            "colorbar": {
             "outlinewidth": 0,
             "ticks": ""
            },
            "type": "mesh3d"
           }
          ],
          "parcoords": [
           {
            "line": {
             "colorbar": {
              "outlinewidth": 0,
              "ticks": ""
             }
            },
            "type": "parcoords"
           }
          ],
          "pie": [
           {
            "automargin": true,
            "type": "pie"
           }
          ],
          "scatter": [
           {
            "marker": {
             "colorbar": {
              "outlinewidth": 0,
              "ticks": ""
             }
            },
            "type": "scatter"
           }
          ],
          "scatter3d": [
           {
            "line": {
             "colorbar": {
              "outlinewidth": 0,
              "ticks": ""
             }
            },
            "marker": {
             "colorbar": {
              "outlinewidth": 0,
              "ticks": ""
             }
            },
            "type": "scatter3d"
           }
          ],
          "scattercarpet": [
           {
            "marker": {
             "colorbar": {
              "outlinewidth": 0,
              "ticks": ""
             }
            },
            "type": "scattercarpet"
           }
          ],
          "scattergeo": [
           {
            "marker": {
             "colorbar": {
              "outlinewidth": 0,
              "ticks": ""
             }
            },
            "type": "scattergeo"
           }
          ],
          "scattergl": [
           {
            "marker": {
             "colorbar": {
              "outlinewidth": 0,
              "ticks": ""
             }
            },
            "type": "scattergl"
           }
          ],
          "scattermapbox": [
           {
            "marker": {
             "colorbar": {
              "outlinewidth": 0,
              "ticks": ""
             }
            },
            "type": "scattermapbox"
           }
          ],
          "scatterpolar": [
           {
            "marker": {
             "colorbar": {
              "outlinewidth": 0,
              "ticks": ""
             }
            },
            "type": "scatterpolar"
           }
          ],
          "scatterpolargl": [
           {
            "marker": {
             "colorbar": {
              "outlinewidth": 0,
              "ticks": ""
             }
            },
            "type": "scatterpolargl"
           }
          ],
          "scatterternary": [
           {
            "marker": {
             "colorbar": {
              "outlinewidth": 0,
              "ticks": ""
             }
            },
            "type": "scatterternary"
           }
          ],
          "surface": [
           {
            "colorbar": {
             "outlinewidth": 0,
             "ticks": ""
            },
            "colorscale": [
             [
              0,
              "#0d0887"
             ],
             [
              0.1111111111111111,
              "#46039f"
             ],
             [
              0.2222222222222222,
              "#7201a8"
             ],
             [
              0.3333333333333333,
              "#9c179e"
             ],
             [
              0.4444444444444444,
              "#bd3786"
             ],
             [
              0.5555555555555556,
              "#d8576b"
             ],
             [
              0.6666666666666666,
              "#ed7953"
             ],
             [
              0.7777777777777778,
              "#fb9f3a"
             ],
             [
              0.8888888888888888,
              "#fdca26"
             ],
             [
              1,
              "#f0f921"
             ]
            ],
            "type": "surface"
           }
          ],
          "table": [
           {
            "cells": {
             "fill": {
              "color": "#EBF0F8"
             },
             "line": {
              "color": "white"
             }
            },
            "header": {
             "fill": {
              "color": "#C8D4E3"
             },
             "line": {
              "color": "white"
             }
            },
            "type": "table"
           }
          ]
         },
         "layout": {
          "annotationdefaults": {
           "arrowcolor": "#2a3f5f",
           "arrowhead": 0,
           "arrowwidth": 1
          },
          "coloraxis": {
           "colorbar": {
            "outlinewidth": 0,
            "ticks": ""
           }
          },
          "colorscale": {
           "diverging": [
            [
             0,
             "#8e0152"
            ],
            [
             0.1,
             "#c51b7d"
            ],
            [
             0.2,
             "#de77ae"
            ],
            [
             0.3,
             "#f1b6da"
            ],
            [
             0.4,
             "#fde0ef"
            ],
            [
             0.5,
             "#f7f7f7"
            ],
            [
             0.6,
             "#e6f5d0"
            ],
            [
             0.7,
             "#b8e186"
            ],
            [
             0.8,
             "#7fbc41"
            ],
            [
             0.9,
             "#4d9221"
            ],
            [
             1,
             "#276419"
            ]
           ],
           "sequential": [
            [
             0,
             "#0d0887"
            ],
            [
             0.1111111111111111,
             "#46039f"
            ],
            [
             0.2222222222222222,
             "#7201a8"
            ],
            [
             0.3333333333333333,
             "#9c179e"
            ],
            [
             0.4444444444444444,
             "#bd3786"
            ],
            [
             0.5555555555555556,
             "#d8576b"
            ],
            [
             0.6666666666666666,
             "#ed7953"
            ],
            [
             0.7777777777777778,
             "#fb9f3a"
            ],
            [
             0.8888888888888888,
             "#fdca26"
            ],
            [
             1,
             "#f0f921"
            ]
           ],
           "sequentialminus": [
            [
             0,
             "#0d0887"
            ],
            [
             0.1111111111111111,
             "#46039f"
            ],
            [
             0.2222222222222222,
             "#7201a8"
            ],
            [
             0.3333333333333333,
             "#9c179e"
            ],
            [
             0.4444444444444444,
             "#bd3786"
            ],
            [
             0.5555555555555556,
             "#d8576b"
            ],
            [
             0.6666666666666666,
             "#ed7953"
            ],
            [
             0.7777777777777778,
             "#fb9f3a"
            ],
            [
             0.8888888888888888,
             "#fdca26"
            ],
            [
             1,
             "#f0f921"
            ]
           ]
          },
          "colorway": [
           "#636efa",
           "#EF553B",
           "#00cc96",
           "#ab63fa",
           "#FFA15A",
           "#19d3f3",
           "#FF6692",
           "#B6E880",
           "#FF97FF",
           "#FECB52"
          ],
          "font": {
           "color": "#2a3f5f"
          },
          "geo": {
           "bgcolor": "white",
           "lakecolor": "white",
           "landcolor": "#E5ECF6",
           "showlakes": true,
           "showland": true,
           "subunitcolor": "white"
          },
          "hoverlabel": {
           "align": "left"
          },
          "hovermode": "closest",
          "mapbox": {
           "style": "light"
          },
          "paper_bgcolor": "white",
          "plot_bgcolor": "#E5ECF6",
          "polar": {
           "angularaxis": {
            "gridcolor": "white",
            "linecolor": "white",
            "ticks": ""
           },
           "bgcolor": "#E5ECF6",
           "radialaxis": {
            "gridcolor": "white",
            "linecolor": "white",
            "ticks": ""
           }
          },
          "scene": {
           "xaxis": {
            "backgroundcolor": "#E5ECF6",
            "gridcolor": "white",
            "gridwidth": 2,
            "linecolor": "white",
            "showbackground": true,
            "ticks": "",
            "zerolinecolor": "white"
           },
           "yaxis": {
            "backgroundcolor": "#E5ECF6",
            "gridcolor": "white",
            "gridwidth": 2,
            "linecolor": "white",
            "showbackground": true,
            "ticks": "",
            "zerolinecolor": "white"
           },
           "zaxis": {
            "backgroundcolor": "#E5ECF6",
            "gridcolor": "white",
            "gridwidth": 2,
            "linecolor": "white",
            "showbackground": true,
            "ticks": "",
            "zerolinecolor": "white"
           }
          },
          "shapedefaults": {
           "line": {
            "color": "#2a3f5f"
           }
          },
          "ternary": {
           "aaxis": {
            "gridcolor": "white",
            "linecolor": "white",
            "ticks": ""
           },
           "baxis": {
            "gridcolor": "white",
            "linecolor": "white",
            "ticks": ""
           },
           "bgcolor": "#E5ECF6",
           "caxis": {
            "gridcolor": "white",
            "linecolor": "white",
            "ticks": ""
           }
          },
          "title": {
           "x": 0.05
          },
          "xaxis": {
           "automargin": true,
           "gridcolor": "white",
           "linecolor": "white",
           "ticks": "",
           "title": {
            "standoff": 15
           },
           "zerolinecolor": "white",
           "zerolinewidth": 2
          },
          "yaxis": {
           "automargin": true,
           "gridcolor": "white",
           "linecolor": "white",
           "ticks": "",
           "title": {
            "standoff": 15
           },
           "zerolinecolor": "white",
           "zerolinewidth": 2
          }
         }
        },
        "title": {
         "font": {
          "size": 16
         },
         "text": "<br>Network graph made with Python"
        },
        "xaxis": {
         "autorange": true,
         "range": [
          0.03344833359297954,
          1.0076053117198065
         ],
         "showgrid": false,
         "showticklabels": false,
         "type": "linear",
         "zeroline": false
        },
        "yaxis": {
         "autorange": true,
         "range": [
          0.006615620018416354,
          1.0396822207556429
         ],
         "showgrid": false,
         "showticklabels": false,
         "type": "linear",
         "zeroline": false
        }
       }
      },
      "image/png": "[encoded data removed]",
      "text/html": [
       "<div>\n",
       "        \n",
       "        \n",
       "            <div id=\"01d687f8-c55d-4932-a9c0-37d34c9b736d\" class=\"plotly-graph-div\" style=\"height:525px; width:100%;\"></div>\n",
       "            <script type=\"text/javascript\">\n",
       "                require([\"plotly\"], function(Plotly) {\n",
       "                    window.PLOTLYENV=window.PLOTLYENV || {};\n",
       "                    \n",
       "                if (document.getElementById(\"01d687f8-c55d-4932-a9c0-37d34c9b736d\")) {\n",
       "                    Plotly.newPlot(\n",
       "                        '01d687f8-c55d-4932-a9c0-37d34c9b736d',\n",
       "                        [{\"hoverinfo\": \"none\", \"line\": {\"color\": \"#888\", \"width\": 0.5}, \"mode\": \"lines\", \"type\": \"scatter\", \"x\": [0.2144360989332199, 0.6836008429527283, null, 0.3921436667442322, 0.6836008429527283, null, 0.09978185594081879, 0.6836008429527283, null, 0.635555624961853, 0.6836008429527283, null, 0.9507686495780945, 0.6836008429527283, null, 0.619988203048706, 0.6836008429527283, null, 0.4894177317619324, 0.6836008429527283, null, 0.4045814573764801, 0.6836008429527283, null, 0.18056459724903107, 0.6836008429527283, null, 0.09028499573469162, 0.6836008429527283, null], \"y\": [0.1685742884874344, 0.2824505865573883, null, 0.3510868549346924, 0.2824505865573883, null, 0.9714733362197876, 0.2824505865573883, null, 0.9414101243019104, 0.2824505865573883, null, 0.439740926027298, 0.2824505865573883, null, 0.5295195579528809, 0.2824505865573883, null, 0.7145042419433594, 0.2824505865573883, null, 0.14504779875278473, 0.2824505865573883, null, 0.931752622127533, 0.2824505865573883, null, 0.0748245045542717, 0.2824505865573883, null]}, {\"hoverinfo\": \"text\", \"marker\": {\"color\": [1, 1, 1, 1, 1, 1, 1, 1, 1, 1, 0], \"colorbar\": {\"thickness\": 15, \"title\": {\"side\": \"right\", \"text\": \"Node Connections\"}, \"xanchor\": \"left\"}, \"colorscale\": [[0.0, \"rgb(255,255,217)\"], [0.125, \"rgb(237,248,177)\"], [0.25, \"rgb(199,233,180)\"], [0.375, \"rgb(127,205,187)\"], [0.5, \"rgb(65,182,196)\"], [0.625, \"rgb(29,145,192)\"], [0.75, \"rgb(34,94,168)\"], [0.875, \"rgb(37,52,148)\"], [1.0, \"rgb(8,29,88)\"]], \"line\": {\"width\": 2}, \"reversescale\": true, \"showscale\": true, \"size\": 10}, \"mode\": \"markers\", \"text\": [\"# of connections: 1\", \"# of connections: 1\", \"# of connections: 1\", \"# of connections: 1\", \"# of connections: 1\", \"# of connections: 1\", \"# of connections: 1\", \"# of connections: 1\", \"# of connections: 1\", \"# of connections: 1\", \"# of connections: 0\"], \"type\": \"scatter\", \"x\": [0.2144360989332199, 0.3921436667442322, 0.09978185594081879, 0.635555624961853, 0.9507686495780945, 0.619988203048706, 0.4894177317619324, 0.4045814573764801, 0.18056459724903107, 0.09028499573469162, 0.6836008429527283], \"y\": [0.1685742884874344, 0.3510868549346924, 0.9714733362197876, 0.9414101243019104, 0.439740926027298, 0.5295195579528809, 0.7145042419433594, 0.14504779875278473, 0.931752622127533, 0.0748245045542717, 0.2824505865573883]}],\n",
       "                        {\"annotations\": [{\"showarrow\": false, \"text\": \"Python code: <a href='https://plot.ly/ipython-notebooks/network-graphs/'> https://plot.ly/ipython-notebooks/network-graphs/</a>\", \"x\": 0.005, \"xref\": \"paper\", \"y\": -0.002, \"yref\": \"paper\"}], \"hovermode\": \"closest\", \"margin\": {\"b\": 20, \"l\": 5, \"r\": 5, \"t\": 40}, \"showlegend\": false, \"template\": {\"data\": {\"bar\": [{\"error_x\": {\"color\": \"#2a3f5f\"}, \"error_y\": {\"color\": \"#2a3f5f\"}, \"marker\": {\"line\": {\"color\": \"#E5ECF6\", \"width\": 0.5}}, \"type\": \"bar\"}], \"barpolar\": [{\"marker\": {\"line\": {\"color\": \"#E5ECF6\", \"width\": 0.5}}, \"type\": \"barpolar\"}], \"carpet\": [{\"aaxis\": {\"endlinecolor\": \"#2a3f5f\", \"gridcolor\": \"white\", \"linecolor\": \"white\", \"minorgridcolor\": \"white\", \"startlinecolor\": \"#2a3f5f\"}, \"baxis\": {\"endlinecolor\": \"#2a3f5f\", \"gridcolor\": \"white\", \"linecolor\": \"white\", \"minorgridcolor\": \"white\", \"startlinecolor\": \"#2a3f5f\"}, \"type\": \"carpet\"}], \"choropleth\": [{\"colorbar\": {\"outlinewidth\": 0, \"ticks\": \"\"}, \"type\": \"choropleth\"}], \"contour\": [{\"colorbar\": {\"outlinewidth\": 0, \"ticks\": \"\"}, \"colorscale\": [[0.0, \"#0d0887\"], [0.1111111111111111, \"#46039f\"], [0.2222222222222222, \"#7201a8\"], [0.3333333333333333, \"#9c179e\"], [0.4444444444444444, \"#bd3786\"], [0.5555555555555556, \"#d8576b\"], [0.6666666666666666, \"#ed7953\"], [0.7777777777777778, \"#fb9f3a\"], [0.8888888888888888, \"#fdca26\"], [1.0, \"#f0f921\"]], \"type\": \"contour\"}], \"contourcarpet\": [{\"colorbar\": {\"outlinewidth\": 0, \"ticks\": \"\"}, \"type\": \"contourcarpet\"}], \"heatmap\": [{\"colorbar\": {\"outlinewidth\": 0, \"ticks\": \"\"}, \"colorscale\": [[0.0, \"#0d0887\"], [0.1111111111111111, \"#46039f\"], [0.2222222222222222, \"#7201a8\"], [0.3333333333333333, \"#9c179e\"], [0.4444444444444444, \"#bd3786\"], [0.5555555555555556, \"#d8576b\"], [0.6666666666666666, \"#ed7953\"], [0.7777777777777778, \"#fb9f3a\"], [0.8888888888888888, \"#fdca26\"], [1.0, \"#f0f921\"]], \"type\": \"heatmap\"}], \"heatmapgl\": [{\"colorbar\": {\"outlinewidth\": 0, \"ticks\": \"\"}, \"colorscale\": [[0.0, \"#0d0887\"], [0.1111111111111111, \"#46039f\"], [0.2222222222222222, \"#7201a8\"], [0.3333333333333333, \"#9c179e\"], [0.4444444444444444, \"#bd3786\"], [0.5555555555555556, \"#d8576b\"], [0.6666666666666666, \"#ed7953\"], [0.7777777777777778, \"#fb9f3a\"], [0.8888888888888888, \"#fdca26\"], [1.0, \"#f0f921\"]], \"type\": \"heatmapgl\"}], \"histogram\": [{\"marker\": {\"colorbar\": {\"outlinewidth\": 0, \"ticks\": \"\"}}, \"type\": \"histogram\"}], \"histogram2d\": [{\"colorbar\": {\"outlinewidth\": 0, \"ticks\": \"\"}, \"colorscale\": [[0.0, \"#0d0887\"], [0.1111111111111111, \"#46039f\"], [0.2222222222222222, \"#7201a8\"], [0.3333333333333333, \"#9c179e\"], [0.4444444444444444, \"#bd3786\"], [0.5555555555555556, \"#d8576b\"], [0.6666666666666666, \"#ed7953\"], [0.7777777777777778, \"#fb9f3a\"], [0.8888888888888888, \"#fdca26\"], [1.0, \"#f0f921\"]], \"type\": \"histogram2d\"}], \"histogram2dcontour\": [{\"colorbar\": {\"outlinewidth\": 0, \"ticks\": \"\"}, \"colorscale\": [[0.0, \"#0d0887\"], [0.1111111111111111, \"#46039f\"], [0.2222222222222222, \"#7201a8\"], [0.3333333333333333, \"#9c179e\"], [0.4444444444444444, \"#bd3786\"], [0.5555555555555556, \"#d8576b\"], [0.6666666666666666, \"#ed7953\"], [0.7777777777777778, \"#fb9f3a\"], [0.8888888888888888, \"#fdca26\"], [1.0, \"#f0f921\"]], \"type\": \"histogram2dcontour\"}], \"mesh3d\": [{\"colorbar\": {\"outlinewidth\": 0, \"ticks\": \"\"}, \"type\": \"mesh3d\"}], \"parcoords\": [{\"line\": {\"colorbar\": {\"outlinewidth\": 0, \"ticks\": \"\"}}, \"type\": \"parcoords\"}], \"pie\": [{\"automargin\": true, \"type\": \"pie\"}], \"scatter\": [{\"marker\": {\"colorbar\": {\"outlinewidth\": 0, \"ticks\": \"\"}}, \"type\": \"scatter\"}], \"scatter3d\": [{\"line\": {\"colorbar\": {\"outlinewidth\": 0, \"ticks\": \"\"}}, \"marker\": {\"colorbar\": {\"outlinewidth\": 0, \"ticks\": \"\"}}, \"type\": \"scatter3d\"}], \"scattercarpet\": [{\"marker\": {\"colorbar\": {\"outlinewidth\": 0, \"ticks\": \"\"}}, \"type\": \"scattercarpet\"}], \"scattergeo\": [{\"marker\": {\"colorbar\": {\"outlinewidth\": 0, \"ticks\": \"\"}}, \"type\": \"scattergeo\"}], \"scattergl\": [{\"marker\": {\"colorbar\": {\"outlinewidth\": 0, \"ticks\": \"\"}}, \"type\": \"scattergl\"}], \"scattermapbox\": [{\"marker\": {\"colorbar\": {\"outlinewidth\": 0, \"ticks\": \"\"}}, \"type\": \"scattermapbox\"}], \"scatterpolar\": [{\"marker\": {\"colorbar\": {\"outlinewidth\": 0, \"ticks\": \"\"}}, \"type\": \"scatterpolar\"}], \"scatterpolargl\": [{\"marker\": {\"colorbar\": {\"outlinewidth\": 0, \"ticks\": \"\"}}, \"type\": \"scatterpolargl\"}], \"scatterternary\": [{\"marker\": {\"colorbar\": {\"outlinewidth\": 0, \"ticks\": \"\"}}, \"type\": \"scatterternary\"}], \"surface\": [{\"colorbar\": {\"outlinewidth\": 0, \"ticks\": \"\"}, \"colorscale\": [[0.0, \"#0d0887\"], [0.1111111111111111, \"#46039f\"], [0.2222222222222222, \"#7201a8\"], [0.3333333333333333, \"#9c179e\"], [0.4444444444444444, \"#bd3786\"], [0.5555555555555556, \"#d8576b\"], [0.6666666666666666, \"#ed7953\"], [0.7777777777777778, \"#fb9f3a\"], [0.8888888888888888, \"#fdca26\"], [1.0, \"#f0f921\"]], \"type\": \"surface\"}], \"table\": [{\"cells\": {\"fill\": {\"color\": \"#EBF0F8\"}, \"line\": {\"color\": \"white\"}}, \"header\": {\"fill\": {\"color\": \"#C8D4E3\"}, \"line\": {\"color\": \"white\"}}, \"type\": \"table\"}]}, \"layout\": {\"annotationdefaults\": {\"arrowcolor\": \"#2a3f5f\", \"arrowhead\": 0, \"arrowwidth\": 1}, \"coloraxis\": {\"colorbar\": {\"outlinewidth\": 0, \"ticks\": \"\"}}, \"colorscale\": {\"diverging\": [[0, \"#8e0152\"], [0.1, \"#c51b7d\"], [0.2, \"#de77ae\"], [0.3, \"#f1b6da\"], [0.4, \"#fde0ef\"], [0.5, \"#f7f7f7\"], [0.6, \"#e6f5d0\"], [0.7, \"#b8e186\"], [0.8, \"#7fbc41\"], [0.9, \"#4d9221\"], [1, \"#276419\"]], \"sequential\": [[0.0, \"#0d0887\"], [0.1111111111111111, \"#46039f\"], [0.2222222222222222, \"#7201a8\"], [0.3333333333333333, \"#9c179e\"], [0.4444444444444444, \"#bd3786\"], [0.5555555555555556, \"#d8576b\"], [0.6666666666666666, \"#ed7953\"], [0.7777777777777778, \"#fb9f3a\"], [0.8888888888888888, \"#fdca26\"], [1.0, \"#f0f921\"]], \"sequentialminus\": [[0.0, \"#0d0887\"], [0.1111111111111111, \"#46039f\"], [0.2222222222222222, \"#7201a8\"], [0.3333333333333333, \"#9c179e\"], [0.4444444444444444, \"#bd3786\"], [0.5555555555555556, \"#d8576b\"], [0.6666666666666666, \"#ed7953\"], [0.7777777777777778, \"#fb9f3a\"], [0.8888888888888888, \"#fdca26\"], [1.0, \"#f0f921\"]]}, \"colorway\": [\"#636efa\", \"#EF553B\", \"#00cc96\", \"#ab63fa\", \"#FFA15A\", \"#19d3f3\", \"#FF6692\", \"#B6E880\", \"#FF97FF\", \"#FECB52\"], \"font\": {\"color\": \"#2a3f5f\"}, \"geo\": {\"bgcolor\": \"white\", \"lakecolor\": \"white\", \"landcolor\": \"#E5ECF6\", \"showlakes\": true, \"showland\": true, \"subunitcolor\": \"white\"}, \"hoverlabel\": {\"align\": \"left\"}, \"hovermode\": \"closest\", \"mapbox\": {\"style\": \"light\"}, \"paper_bgcolor\": \"white\", \"plot_bgcolor\": \"#E5ECF6\", \"polar\": {\"angularaxis\": {\"gridcolor\": \"white\", \"linecolor\": \"white\", \"ticks\": \"\"}, \"bgcolor\": \"#E5ECF6\", \"radialaxis\": {\"gridcolor\": \"white\", \"linecolor\": \"white\", \"ticks\": \"\"}}, \"scene\": {\"xaxis\": {\"backgroundcolor\": \"#E5ECF6\", \"gridcolor\": \"white\", \"gridwidth\": 2, \"linecolor\": \"white\", \"showbackground\": true, \"ticks\": \"\", \"zerolinecolor\": \"white\"}, \"yaxis\": {\"backgroundcolor\": \"#E5ECF6\", \"gridcolor\": \"white\", \"gridwidth\": 2, \"linecolor\": \"white\", \"showbackground\": true, \"ticks\": \"\", \"zerolinecolor\": \"white\"}, \"zaxis\": {\"backgroundcolor\": \"#E5ECF6\", \"gridcolor\": \"white\", \"gridwidth\": 2, \"linecolor\": \"white\", \"showbackground\": true, \"ticks\": \"\", \"zerolinecolor\": \"white\"}}, \"shapedefaults\": {\"line\": {\"color\": \"#2a3f5f\"}}, \"ternary\": {\"aaxis\": {\"gridcolor\": \"white\", \"linecolor\": \"white\", \"ticks\": \"\"}, \"baxis\": {\"gridcolor\": \"white\", \"linecolor\": \"white\", \"ticks\": \"\"}, \"bgcolor\": \"#E5ECF6\", \"caxis\": {\"gridcolor\": \"white\", \"linecolor\": \"white\", \"ticks\": \"\"}}, \"title\": {\"x\": 0.05}, \"xaxis\": {\"automargin\": true, \"gridcolor\": \"white\", \"linecolor\": \"white\", \"ticks\": \"\", \"title\": {\"standoff\": 15}, \"zerolinecolor\": \"white\", \"zerolinewidth\": 2}, \"yaxis\": {\"automargin\": true, \"gridcolor\": \"white\", \"linecolor\": \"white\", \"ticks\": \"\", \"title\": {\"standoff\": 15}, \"zerolinecolor\": \"white\", \"zerolinewidth\": 2}}}, \"title\": {\"font\": {\"size\": 16}, \"text\": \"<br>Network graph made with Python\"}, \"xaxis\": {\"showgrid\": false, \"showticklabels\": false, \"zeroline\": false}, \"yaxis\": {\"showgrid\": false, \"showticklabels\": false, \"zeroline\": false}},\n",
       "                        {\"responsive\": true}\n",
       "                    ).then(function(){\n",
       "                            \n",
       "var gd = document.getElementById('01d687f8-c55d-4932-a9c0-37d34c9b736d');\n",
       "var x = new MutationObserver(function (mutations, observer) {{\n",
       "        var display = window.getComputedStyle(gd).display;\n",
       "        if (!display || display === 'none') {{\n",
       "            console.log([gd, 'removed!']);\n",
       "            Plotly.purge(gd);\n",
       "            observer.disconnect();\n",
       "        }}\n",
       "}});\n",
       "\n",
       "// Listen for the removal of the full notebook cells\n",
       "var notebookContainer = gd.closest('#notebook-container');\n",
       "if (notebookContainer) {{\n",
       "    x.observe(notebookContainer, {childList: true});\n",
       "}}\n",
       "\n",
       "// Listen for the clearing of the current output cell\n",
       "var outputEl = gd.closest('.output');\n",
       "if (outputEl) {{\n",
       "    x.observe(outputEl, {childList: true});\n",
       "}}\n",
       "\n",
       "                        })\n",
       "                };\n",
       "                });\n",
       "            </script>\n",
       "        </div>"
      ]
     },
     "metadata": {},
     "output_type": "display_data"
    }
   ],
   "source": [
    "fig = go.Figure(data=[edge_trace, node_trace],\n",
    "             layout=go.Layout(\n",
    "                title='<br>Network graph made with Python',\n",
    "                titlefont_size=16,\n",
    "                showlegend=False,\n",
    "                hovermode='closest',\n",
    "                margin=dict(b=20,l=5,r=5,t=40),\n",
    "                annotations=[ dict(\n",
    "                    text=\"Python code: <a href='https://plot.ly/ipython-notebooks/network-graphs/'> https://plot.ly/ipython-notebooks/network-graphs/</a>\",\n",
    "                    showarrow=False,\n",
    "                    xref=\"paper\", yref=\"paper\",\n",
    "                    x=0.005, y=-0.002 ) ],\n",
    "                xaxis=dict(showgrid=False, zeroline=False, showticklabels=False),\n",
    "                yaxis=dict(showgrid=False, zeroline=False, showticklabels=False))\n",
    "                )\n",
    "fig.show()"
   ]
  },
  {
   "cell_type": "code",
   "execution_count": 96,
   "metadata": {},
   "outputs": [
    {
     "data": {
      "text/plain": [
       "[{'data': {'id': 'one', 'label': 'Node 1'}, 'position': {'x': 75, 'y': 75}},\n",
       " {'data': {'id': 'two', 'label': 'Node 2'}, 'position': {'x': 200, 'y': 200}},\n",
       " {'data': {'source': 'one', 'target': 'two'}}]"
      ]
     },
     "execution_count": 96,
     "metadata": {},
     "output_type": "execute_result"
    }
   ],
   "source": [
    "[\n",
    "            {'data': {'id': 'one', 'label': 'Node 1'}, 'position': {'x': 75, 'y': 75}},\n",
    "            {'data': {'id': 'two', 'label': 'Node 2'}, 'position': {'x': 200, 'y': 200}},\n",
    "            {'data': {'source': 'one', 'target': 'two'}}\n",
    "        ]"
   ]
  },
  {
   "cell_type": "code",
   "execution_count": 97,
   "metadata": {},
   "outputs": [
    {
     "data": {
      "text/plain": [
       "{4186830016: array([0.2144361 , 0.16857429], dtype=float32),\n",
       " 1046903019772760064: array([0.39214367, 0.35108685], dtype=float32),\n",
       " 1196282874170937344: array([0.09978186, 0.97147334], dtype=float32),\n",
       " 926150184890859520: array([0.6355556, 0.9414101], dtype=float32),\n",
       " 1221530842494906368: array([0.95076865, 0.43974093], dtype=float32),\n",
       " 1063813809301794816: array([0.6199882 , 0.52951956], dtype=float32),\n",
       " 144231081: array([0.48941773, 0.71450424], dtype=float32),\n",
       " 1131194479065542656: array([0.40458146, 0.1450478 ], dtype=float32),\n",
       " 25582250: array([0.1805646, 0.9317526], dtype=float32),\n",
       " 262501819: array([0.090285 , 0.0748245], dtype=float32),\n",
       " 219574192: array([0.68360084, 0.2824506 ], dtype=float32)}"
      ]
     },
     "execution_count": 97,
     "metadata": {},
     "output_type": "execute_result"
    }
   ],
   "source": [
    "pos"
   ]
  },
  {
   "cell_type": "code",
   "execution_count": null,
   "metadata": {},
   "outputs": [],
   "source": [
    "\n",
    "[\n",
    "# Node\n",
    "{\"data\": {\"id\": user_id, \"label\": user_id}, \"position\": {\"x\": pos[user_id][0], \"y\": pos[user_id][1]}},\n",
    "# Edge\n",
    "{'data': {'source': edge[0], 'target': edge[1]}}\n",
    "]"
   ]
  },
  {
   "cell_type": "code",
   "execution_count": 107,
   "metadata": {},
   "outputs": [
    {
     "name": "stdout",
     "output_type": "stream",
     "text": [
      "4186830016 219574192\n",
      "1046903019772760064 219574192\n",
      "1196282874170937344 219574192\n",
      "926150184890859520 219574192\n",
      "1221530842494906368 219574192\n",
      "1063813809301794816 219574192\n",
      "144231081 219574192\n",
      "1131194479065542656 219574192\n",
      "25582250 219574192\n",
      "262501819 219574192\n"
     ]
    }
   ],
   "source": [
    "for edge in user_graph.edges():\n",
    "      print(edge[0], edge[1])"
   ]
  },
  {
   "cell_type": "code",
   "execution_count": 120,
   "metadata": {},
   "outputs": [],
   "source": [
    "elements =  []\n",
    "\n",
    "# Insert nodes\n",
    "for node in pos:\n",
    "    elements.append({\"data\":{\n",
    "                            \"id\": str(node), \"label\": str(node)},\n",
    "                        \"position\": {\n",
    "                            \"x\": float(pos[node][0]), \"y\": float(pos[node][1])}})\n",
    "\n",
    "# Insert edges\n",
    "for edge in user_graph.edges():\n",
    "    elements.append({\"data\": {\"source\": str(edge[0]), \"target\": str(edge[1])}})"
   ]
  },
  {
   "cell_type": "code",
   "execution_count": 122,
   "metadata": {},
   "outputs": [
    {
     "data": {
      "text/plain": [
       "219574192"
      ]
     },
     "execution_count": 122,
     "metadata": {},
     "output_type": "execute_result"
    }
   ],
   "source": [
    "user.id"
   ]
  },
  {
   "cell_type": "code",
   "execution_count": 207,
   "metadata": {},
   "outputs": [],
   "source": [
    "double_edges = [\n",
    "    {'data': {'id': src+tgt, 'source': src, 'target': tgt}}\n",
    "    for src, tgt in ['AB', 'BA', 'BC', 'CB', 'CD', 'DC', 'DA', 'AD']\n",
    "]\n",
    "\n",
    "double_edged_el = [{'data': {'id': id_}} for id_ in 'ABCD'] + double_edges"
   ]
  },
  {
   "cell_type": "code",
   "execution_count": 208,
   "metadata": {},
   "outputs": [
    {
     "data": {
      "text/plain": [
       "[{'data': {'id': 'A'}},\n",
       " {'data': {'id': 'B'}},\n",
       " {'data': {'id': 'C'}},\n",
       " {'data': {'id': 'D'}},\n",
       " {'data': {'id': 'AB', 'source': 'A', 'target': 'B'}},\n",
       " {'data': {'id': 'BA', 'source': 'B', 'target': 'A'}},\n",
       " {'data': {'id': 'BC', 'source': 'B', 'target': 'C'}},\n",
       " {'data': {'id': 'CB', 'source': 'C', 'target': 'B'}},\n",
       " {'data': {'id': 'CD', 'source': 'C', 'target': 'D'}},\n",
       " {'data': {'id': 'DC', 'source': 'D', 'target': 'C'}},\n",
       " {'data': {'id': 'DA', 'source': 'D', 'target': 'A'}},\n",
       " {'data': {'id': 'AD', 'source': 'A', 'target': 'D'}}]"
      ]
     },
     "execution_count": 208,
     "metadata": {},
     "output_type": "execute_result"
    }
   ],
   "source": [
    "double_edged_el"
   ]
  },
  {
   "cell_type": "code",
   "execution_count": null,
   "metadata": {},
   "outputs": [],
   "source": [
    "double_edges"
   ]
  },
  {
   "cell_type": "code",
   "execution_count": 201,
   "metadata": {},
   "outputs": [
    {
     "name": "stdout",
     "output_type": "stream",
     "text": [
      "[{'data': {'id': '2580', 'label': '2580'}, 'position': {'x': 18.0, 'y': 1546.0}, 'classes': 'red triangle'}, {'data': {'id': '3495', 'label': '3495'}, 'position': {'x': 6.0, 'y': 831.0}, 'classes': 'red triangle'}, {'data': {'id': '5087', 'label': '5087'}, 'position': {'x': 11.0, 'y': 2157.0}, 'classes': 'red triangle'}, {'data': {'id': '4242', 'label': '4242'}, 'position': {'x': 2.0, 'y': 12973.0}, 'classes': 'red triangle'}]\n",
      "[{'data': {'id': '2580', 'label': '2580'}, 'position': {'x': 18.0, 'y': 1546.0}, 'classes': 'red triangle'}, {'data': {'id': '3495', 'label': '3495'}, 'position': {'x': 6.0, 'y': 831.0}, 'classes': 'red triangle'}, {'data': {'id': '5087', 'label': '5087'}, 'position': {'x': 11.0, 'y': 2157.0}, 'classes': 'red triangle'}, {'data': {'id': '4242', 'label': '4242'}, 'position': {'x': 2.0, 'y': 12973.0}, 'classes': 'red triangle'}, {'data': {'source': '2580', 'target': '3495'}, 'classes': 'red'}, {'data': {'source': '3495', 'target': '2580'}, 'classes': 'red'}, {'data': {'source': '3495', 'target': '5087'}, 'classes': 'red'}, {'data': {'source': '5087', 'target': '3495'}, 'classes': 'red'}, {'data': {'source': '4242', 'target': '2580'}, 'classes': 'red'}, {'data': {'source': '2580', 'target': '4242'}, 'classes': 'red'}, {'data': {'source': '2580', 'target': '5087'}, 'classes': 'red'}, {'data': {'source': '5087', 'target': '2580'}, 'classes': 'red'}, {'data': {'source': '2580', 'target': '4242'}, 'classes': 'red'}, {'data': {'source': '4242', 'target': '2580'}, 'classes': 'red'}]\n",
      "2580 30\n",
      "3495 50\n",
      "5087 30\n",
      "4242 13\n"
     ]
    }
   ],
   "source": [
    "import numpy as np\n",
    "\n",
    "# Make a random graph\n",
    "user_1 = 2580\n",
    "user_2 = 3495\n",
    "user_3 = 5087\n",
    "user_4 = 4242\n",
    "\n",
    "\n",
    "user_1_friends = range(30)\n",
    "user_2_friends = range(20, 70)\n",
    "user_3_friends = range(50, 80)\n",
    "user_4_friends = range(90, 103)\n",
    "\n",
    "#x = tweet frequency per day or week\n",
    "tweet_freq = range(0, 20)\n",
    "#y = follower count\n",
    "followers = range(300, 20000)\n",
    "\n",
    "elements =  []\n",
    "\n",
    "\n",
    "# Add user 1, 2, 3, and 4\n",
    "users = [user_1, user_2, user_3, user_4]\n",
    "for user in users:\n",
    "    elements.append({\n",
    "        \"data\":{\n",
    "            \"id\": str(user), \"label\": str(user)\n",
    "        }, \n",
    "        \"position\": {\n",
    "            \"x\": float(np.random.choice(tweet_freq)), \"y\": float(np.random.choice(followers))\n",
    "        }, 'classes': 'red'\n",
    "    })\n",
    "\n",
    "print(elements)\n",
    "\n",
    "# Connect users\n",
    "# 1 & 2\n",
    "elements.append({\"data\": {\"source\": str(user_1), \"target\": str(user_2)}, 'classes': 'red'})\n",
    "elements.append({\"data\": {\"source\": str(user_2), \"target\": str(user_1)}, 'classes': 'red'})\n",
    "\n",
    "# 2 & 3\n",
    "elements.append({\"data\": {\"source\": str(user_2), \"target\": str(user_3)}, 'classes': 'red'})\n",
    "elements.append({\"data\": {\"source\": str(user_3), \"target\": str(user_2)}, 'classes': 'red'})\n",
    "\n",
    "# 4 & 1\n",
    "elements.append({\"data\": {\"source\": str(user_4), \"target\": str(user_1)}, 'classes': 'red'})\n",
    "elements.append({\"data\": {\"source\": str(user_1), \"target\": str(user_4)}, 'classes': 'red'})\n",
    "\n",
    "#1 & 3\n",
    "elements.append({\"data\": {\"source\": str(user_1), \"target\": str(user_3)}, 'classes': 'red'})\n",
    "elements.append({\"data\": {\"source\": str(user_3), \"target\": str(user_1)}, 'classes': 'red'})\n",
    "\n",
    "#1 & 4\n",
    "elements.append({\"data\": {\"source\": str(user_1), \"target\": str(user_4)}, 'classes': 'red'})\n",
    "elements.append({\"data\": {\"source\": str(user_4), \"target\": str(user_1)}, 'classes': 'red'})\n",
    "\n",
    "print(elements)\n",
    "\n",
    "\n",
    "\n",
    "def sample_element_gen(user, friends):\n",
    "    print(user, len(friends))\n",
    "    user_pos = {}\n",
    "    \n",
    "    for i in friends:\n",
    "        user_pos[str(i)] = [float(np.random.choice(tweet_freq)), float(np.random.choice(followers))]\n",
    "        \n",
    "    user_edges = []\n",
    "    \n",
    "    for i in friends:\n",
    "        user_edges.append((str(i), str(user)))\n",
    "    \n",
    "    ele = []\n",
    "    \n",
    "    # Insert edges\n",
    "    for edge in user_edges:\n",
    "        ele.append({\"data\": {\"source\": str(edge[0]), \"target\": str(edge[1])}})\n",
    "\n",
    "\n",
    "    # Insert nodes\n",
    "    for node in user_pos:\n",
    "        ele.append({\"data\":{\n",
    "                                \"id\": str(node), \"label\": str(node)},\n",
    "                            \"position\": {\n",
    "                                \"x\": float(user_pos[node][0]), \"y\": float(user_pos[node][1])}})\n",
    "        \n",
    "    return ele\n",
    "\n",
    "elements = elements + sample_element_gen(user_1, user_1_friends)\n",
    "elements = elements + sample_element_gen(user_2, user_2_friends)\n",
    "elements = elements + sample_element_gen(user_3, user_3_friends)\n",
    "elements = elements + sample_element_gen(user_4, user_4_friends)"
   ]
  },
  {
   "cell_type": "code",
   "execution_count": 202,
   "metadata": {},
   "outputs": [
    {
     "data": {
      "text/plain": [
       "[{'data': {'id': '2580', 'label': '2580'},\n",
       "  'position': {'x': 18.0, 'y': 1546.0},\n",
       "  'classes': 'red triangle'},\n",
       " {'data': {'id': '3495', 'label': '3495'},\n",
       "  'position': {'x': 6.0, 'y': 831.0},\n",
       "  'classes': 'red triangle'},\n",
       " {'data': {'id': '5087', 'label': '5087'},\n",
       "  'position': {'x': 11.0, 'y': 2157.0},\n",
       "  'classes': 'red triangle'},\n",
       " {'data': {'id': '4242', 'label': '4242'},\n",
       "  'position': {'x': 2.0, 'y': 12973.0},\n",
       "  'classes': 'red triangle'},\n",
       " {'data': {'source': '2580', 'target': '3495'}, 'classes': 'red'},\n",
       " {'data': {'source': '3495', 'target': '2580'}, 'classes': 'red'},\n",
       " {'data': {'source': '3495', 'target': '5087'}, 'classes': 'red'},\n",
       " {'data': {'source': '5087', 'target': '3495'}, 'classes': 'red'},\n",
       " {'data': {'source': '4242', 'target': '2580'}, 'classes': 'red'},\n",
       " {'data': {'source': '2580', 'target': '4242'}, 'classes': 'red'},\n",
       " {'data': {'source': '2580', 'target': '5087'}, 'classes': 'red'},\n",
       " {'data': {'source': '5087', 'target': '2580'}, 'classes': 'red'},\n",
       " {'data': {'source': '2580', 'target': '4242'}, 'classes': 'red'},\n",
       " {'data': {'source': '4242', 'target': '2580'}, 'classes': 'red'},\n",
       " {'data': {'source': '0', 'target': '2580'}},\n",
       " {'data': {'source': '1', 'target': '2580'}},\n",
       " {'data': {'source': '2', 'target': '2580'}},\n",
       " {'data': {'source': '3', 'target': '2580'}},\n",
       " {'data': {'source': '4', 'target': '2580'}},\n",
       " {'data': {'source': '5', 'target': '2580'}},\n",
       " {'data': {'source': '6', 'target': '2580'}},\n",
       " {'data': {'source': '7', 'target': '2580'}},\n",
       " {'data': {'source': '8', 'target': '2580'}},\n",
       " {'data': {'source': '9', 'target': '2580'}},\n",
       " {'data': {'source': '10', 'target': '2580'}},\n",
       " {'data': {'source': '11', 'target': '2580'}},\n",
       " {'data': {'source': '12', 'target': '2580'}},\n",
       " {'data': {'source': '13', 'target': '2580'}},\n",
       " {'data': {'source': '14', 'target': '2580'}},\n",
       " {'data': {'source': '15', 'target': '2580'}},\n",
       " {'data': {'source': '16', 'target': '2580'}},\n",
       " {'data': {'source': '17', 'target': '2580'}},\n",
       " {'data': {'source': '18', 'target': '2580'}},\n",
       " {'data': {'source': '19', 'target': '2580'}},\n",
       " {'data': {'source': '20', 'target': '2580'}},\n",
       " {'data': {'source': '21', 'target': '2580'}},\n",
       " {'data': {'source': '22', 'target': '2580'}},\n",
       " {'data': {'source': '23', 'target': '2580'}},\n",
       " {'data': {'source': '24', 'target': '2580'}},\n",
       " {'data': {'source': '25', 'target': '2580'}},\n",
       " {'data': {'source': '26', 'target': '2580'}},\n",
       " {'data': {'source': '27', 'target': '2580'}},\n",
       " {'data': {'source': '28', 'target': '2580'}},\n",
       " {'data': {'source': '29', 'target': '2580'}},\n",
       " {'data': {'id': '0', 'label': '0'}, 'position': {'x': 4.0, 'y': 7134.0}},\n",
       " {'data': {'id': '1', 'label': '1'}, 'position': {'x': 7.0, 'y': 14331.0}},\n",
       " {'data': {'id': '2', 'label': '2'}, 'position': {'x': 4.0, 'y': 13956.0}},\n",
       " {'data': {'id': '3', 'label': '3'}, 'position': {'x': 1.0, 'y': 9281.0}},\n",
       " {'data': {'id': '4', 'label': '4'}, 'position': {'x': 11.0, 'y': 7476.0}},\n",
       " {'data': {'id': '5', 'label': '5'}, 'position': {'x': 4.0, 'y': 3568.0}},\n",
       " {'data': {'id': '6', 'label': '6'}, 'position': {'x': 4.0, 'y': 12236.0}},\n",
       " {'data': {'id': '7', 'label': '7'}, 'position': {'x': 1.0, 'y': 4713.0}},\n",
       " {'data': {'id': '8', 'label': '8'}, 'position': {'x': 12.0, 'y': 8333.0}},\n",
       " {'data': {'id': '9', 'label': '9'}, 'position': {'x': 15.0, 'y': 2428.0}},\n",
       " {'data': {'id': '10', 'label': '10'}, 'position': {'x': 15.0, 'y': 11041.0}},\n",
       " {'data': {'id': '11', 'label': '11'}, 'position': {'x': 8.0, 'y': 18104.0}},\n",
       " {'data': {'id': '12', 'label': '12'}, 'position': {'x': 10.0, 'y': 1824.0}},\n",
       " {'data': {'id': '13', 'label': '13'}, 'position': {'x': 0.0, 'y': 6460.0}},\n",
       " {'data': {'id': '14', 'label': '14'}, 'position': {'x': 4.0, 'y': 10964.0}},\n",
       " {'data': {'id': '15', 'label': '15'}, 'position': {'x': 2.0, 'y': 2401.0}},\n",
       " {'data': {'id': '16', 'label': '16'}, 'position': {'x': 4.0, 'y': 9368.0}},\n",
       " {'data': {'id': '17', 'label': '17'}, 'position': {'x': 9.0, 'y': 1348.0}},\n",
       " {'data': {'id': '18', 'label': '18'}, 'position': {'x': 9.0, 'y': 7148.0}},\n",
       " {'data': {'id': '19', 'label': '19'}, 'position': {'x': 7.0, 'y': 16253.0}},\n",
       " {'data': {'id': '20', 'label': '20'}, 'position': {'x': 2.0, 'y': 4866.0}},\n",
       " {'data': {'id': '21', 'label': '21'}, 'position': {'x': 7.0, 'y': 17421.0}},\n",
       " {'data': {'id': '22', 'label': '22'}, 'position': {'x': 16.0, 'y': 19092.0}},\n",
       " {'data': {'id': '23', 'label': '23'}, 'position': {'x': 15.0, 'y': 5073.0}},\n",
       " {'data': {'id': '24', 'label': '24'}, 'position': {'x': 11.0, 'y': 15587.0}},\n",
       " {'data': {'id': '25', 'label': '25'}, 'position': {'x': 9.0, 'y': 6427.0}},\n",
       " {'data': {'id': '26', 'label': '26'}, 'position': {'x': 5.0, 'y': 6548.0}},\n",
       " {'data': {'id': '27', 'label': '27'}, 'position': {'x': 8.0, 'y': 10291.0}},\n",
       " {'data': {'id': '28', 'label': '28'}, 'position': {'x': 3.0, 'y': 2962.0}},\n",
       " {'data': {'id': '29', 'label': '29'}, 'position': {'x': 9.0, 'y': 15127.0}},\n",
       " {'data': {'source': '20', 'target': '3495'}},\n",
       " {'data': {'source': '21', 'target': '3495'}},\n",
       " {'data': {'source': '22', 'target': '3495'}},\n",
       " {'data': {'source': '23', 'target': '3495'}},\n",
       " {'data': {'source': '24', 'target': '3495'}},\n",
       " {'data': {'source': '25', 'target': '3495'}},\n",
       " {'data': {'source': '26', 'target': '3495'}},\n",
       " {'data': {'source': '27', 'target': '3495'}},\n",
       " {'data': {'source': '28', 'target': '3495'}},\n",
       " {'data': {'source': '29', 'target': '3495'}},\n",
       " {'data': {'source': '30', 'target': '3495'}},\n",
       " {'data': {'source': '31', 'target': '3495'}},\n",
       " {'data': {'source': '32', 'target': '3495'}},\n",
       " {'data': {'source': '33', 'target': '3495'}},\n",
       " {'data': {'source': '34', 'target': '3495'}},\n",
       " {'data': {'source': '35', 'target': '3495'}},\n",
       " {'data': {'source': '36', 'target': '3495'}},\n",
       " {'data': {'source': '37', 'target': '3495'}},\n",
       " {'data': {'source': '38', 'target': '3495'}},\n",
       " {'data': {'source': '39', 'target': '3495'}},\n",
       " {'data': {'source': '40', 'target': '3495'}},\n",
       " {'data': {'source': '41', 'target': '3495'}},\n",
       " {'data': {'source': '42', 'target': '3495'}},\n",
       " {'data': {'source': '43', 'target': '3495'}},\n",
       " {'data': {'source': '44', 'target': '3495'}},\n",
       " {'data': {'source': '45', 'target': '3495'}},\n",
       " {'data': {'source': '46', 'target': '3495'}},\n",
       " {'data': {'source': '47', 'target': '3495'}},\n",
       " {'data': {'source': '48', 'target': '3495'}},\n",
       " {'data': {'source': '49', 'target': '3495'}},\n",
       " {'data': {'source': '50', 'target': '3495'}},\n",
       " {'data': {'source': '51', 'target': '3495'}},\n",
       " {'data': {'source': '52', 'target': '3495'}},\n",
       " {'data': {'source': '53', 'target': '3495'}},\n",
       " {'data': {'source': '54', 'target': '3495'}},\n",
       " {'data': {'source': '55', 'target': '3495'}},\n",
       " {'data': {'source': '56', 'target': '3495'}},\n",
       " {'data': {'source': '57', 'target': '3495'}},\n",
       " {'data': {'source': '58', 'target': '3495'}},\n",
       " {'data': {'source': '59', 'target': '3495'}},\n",
       " {'data': {'source': '60', 'target': '3495'}},\n",
       " {'data': {'source': '61', 'target': '3495'}},\n",
       " {'data': {'source': '62', 'target': '3495'}},\n",
       " {'data': {'source': '63', 'target': '3495'}},\n",
       " {'data': {'source': '64', 'target': '3495'}},\n",
       " {'data': {'source': '65', 'target': '3495'}},\n",
       " {'data': {'source': '66', 'target': '3495'}},\n",
       " {'data': {'source': '67', 'target': '3495'}},\n",
       " {'data': {'source': '68', 'target': '3495'}},\n",
       " {'data': {'source': '69', 'target': '3495'}},\n",
       " {'data': {'id': '20', 'label': '20'}, 'position': {'x': 15.0, 'y': 19197.0}},\n",
       " {'data': {'id': '21', 'label': '21'}, 'position': {'x': 6.0, 'y': 13939.0}},\n",
       " {'data': {'id': '22', 'label': '22'}, 'position': {'x': 1.0, 'y': 8869.0}},\n",
       " {'data': {'id': '23', 'label': '23'}, 'position': {'x': 18.0, 'y': 10008.0}},\n",
       " {'data': {'id': '24', 'label': '24'}, 'position': {'x': 4.0, 'y': 7467.0}},\n",
       " {'data': {'id': '25', 'label': '25'}, 'position': {'x': 13.0, 'y': 7970.0}},\n",
       " {'data': {'id': '26', 'label': '26'}, 'position': {'x': 12.0, 'y': 7840.0}},\n",
       " {'data': {'id': '27', 'label': '27'}, 'position': {'x': 18.0, 'y': 12488.0}},\n",
       " {'data': {'id': '28', 'label': '28'}, 'position': {'x': 13.0, 'y': 2406.0}},\n",
       " {'data': {'id': '29', 'label': '29'}, 'position': {'x': 11.0, 'y': 8569.0}},\n",
       " {'data': {'id': '30', 'label': '30'}, 'position': {'x': 15.0, 'y': 16966.0}},\n",
       " {'data': {'id': '31', 'label': '31'}, 'position': {'x': 17.0, 'y': 12843.0}},\n",
       " {'data': {'id': '32', 'label': '32'}, 'position': {'x': 14.0, 'y': 19522.0}},\n",
       " {'data': {'id': '33', 'label': '33'}, 'position': {'x': 2.0, 'y': 3826.0}},\n",
       " {'data': {'id': '34', 'label': '34'}, 'position': {'x': 4.0, 'y': 927.0}},\n",
       " {'data': {'id': '35', 'label': '35'}, 'position': {'x': 4.0, 'y': 13898.0}},\n",
       " {'data': {'id': '36', 'label': '36'}, 'position': {'x': 9.0, 'y': 13601.0}},\n",
       " {'data': {'id': '37', 'label': '37'}, 'position': {'x': 13.0, 'y': 1988.0}},\n",
       " {'data': {'id': '38', 'label': '38'}, 'position': {'x': 18.0, 'y': 4749.0}},\n",
       " {'data': {'id': '39', 'label': '39'}, 'position': {'x': 9.0, 'y': 4705.0}},\n",
       " {'data': {'id': '40', 'label': '40'}, 'position': {'x': 15.0, 'y': 19986.0}},\n",
       " {'data': {'id': '41', 'label': '41'}, 'position': {'x': 18.0, 'y': 16985.0}},\n",
       " {'data': {'id': '42', 'label': '42'}, 'position': {'x': 0.0, 'y': 17787.0}},\n",
       " {'data': {'id': '43', 'label': '43'}, 'position': {'x': 16.0, 'y': 15596.0}},\n",
       " {'data': {'id': '44', 'label': '44'}, 'position': {'x': 6.0, 'y': 9119.0}},\n",
       " {'data': {'id': '45', 'label': '45'}, 'position': {'x': 3.0, 'y': 16893.0}},\n",
       " {'data': {'id': '46', 'label': '46'}, 'position': {'x': 15.0, 'y': 12578.0}},\n",
       " {'data': {'id': '47', 'label': '47'}, 'position': {'x': 18.0, 'y': 18782.0}},\n",
       " {'data': {'id': '48', 'label': '48'}, 'position': {'x': 13.0, 'y': 13180.0}},\n",
       " {'data': {'id': '49', 'label': '49'}, 'position': {'x': 10.0, 'y': 7951.0}},\n",
       " {'data': {'id': '50', 'label': '50'}, 'position': {'x': 2.0, 'y': 10727.0}},\n",
       " {'data': {'id': '51', 'label': '51'}, 'position': {'x': 14.0, 'y': 19442.0}},\n",
       " {'data': {'id': '52', 'label': '52'}, 'position': {'x': 11.0, 'y': 13999.0}},\n",
       " {'data': {'id': '53', 'label': '53'}, 'position': {'x': 17.0, 'y': 8390.0}},\n",
       " {'data': {'id': '54', 'label': '54'}, 'position': {'x': 11.0, 'y': 5886.0}},\n",
       " {'data': {'id': '55', 'label': '55'}, 'position': {'x': 19.0, 'y': 3980.0}},\n",
       " {'data': {'id': '56', 'label': '56'}, 'position': {'x': 16.0, 'y': 1220.0}},\n",
       " {'data': {'id': '57', 'label': '57'}, 'position': {'x': 3.0, 'y': 5084.0}},\n",
       " {'data': {'id': '58', 'label': '58'}, 'position': {'x': 0.0, 'y': 4571.0}},\n",
       " {'data': {'id': '59', 'label': '59'}, 'position': {'x': 5.0, 'y': 15432.0}},\n",
       " {'data': {'id': '60', 'label': '60'}, 'position': {'x': 13.0, 'y': 3039.0}},\n",
       " {'data': {'id': '61', 'label': '61'}, 'position': {'x': 1.0, 'y': 7971.0}},\n",
       " {'data': {'id': '62', 'label': '62'}, 'position': {'x': 19.0, 'y': 776.0}},\n",
       " {'data': {'id': '63', 'label': '63'}, 'position': {'x': 14.0, 'y': 3608.0}},\n",
       " {'data': {'id': '64', 'label': '64'}, 'position': {'x': 13.0, 'y': 12817.0}},\n",
       " {'data': {'id': '65', 'label': '65'}, 'position': {'x': 3.0, 'y': 15144.0}},\n",
       " {'data': {'id': '66', 'label': '66'}, 'position': {'x': 15.0, 'y': 17634.0}},\n",
       " {'data': {'id': '67', 'label': '67'}, 'position': {'x': 11.0, 'y': 8044.0}},\n",
       " {'data': {'id': '68', 'label': '68'}, 'position': {'x': 8.0, 'y': 9948.0}},\n",
       " {'data': {'id': '69', 'label': '69'}, 'position': {'x': 3.0, 'y': 1269.0}},\n",
       " {'data': {'source': '50', 'target': '5087'}},\n",
       " {'data': {'source': '51', 'target': '5087'}},\n",
       " {'data': {'source': '52', 'target': '5087'}},\n",
       " {'data': {'source': '53', 'target': '5087'}},\n",
       " {'data': {'source': '54', 'target': '5087'}},\n",
       " {'data': {'source': '55', 'target': '5087'}},\n",
       " {'data': {'source': '56', 'target': '5087'}},\n",
       " {'data': {'source': '57', 'target': '5087'}},\n",
       " {'data': {'source': '58', 'target': '5087'}},\n",
       " {'data': {'source': '59', 'target': '5087'}},\n",
       " {'data': {'source': '60', 'target': '5087'}},\n",
       " {'data': {'source': '61', 'target': '5087'}},\n",
       " {'data': {'source': '62', 'target': '5087'}},\n",
       " {'data': {'source': '63', 'target': '5087'}},\n",
       " {'data': {'source': '64', 'target': '5087'}},\n",
       " {'data': {'source': '65', 'target': '5087'}},\n",
       " {'data': {'source': '66', 'target': '5087'}},\n",
       " {'data': {'source': '67', 'target': '5087'}},\n",
       " {'data': {'source': '68', 'target': '5087'}},\n",
       " {'data': {'source': '69', 'target': '5087'}},\n",
       " {'data': {'source': '70', 'target': '5087'}},\n",
       " {'data': {'source': '71', 'target': '5087'}},\n",
       " {'data': {'source': '72', 'target': '5087'}},\n",
       " {'data': {'source': '73', 'target': '5087'}},\n",
       " {'data': {'source': '74', 'target': '5087'}},\n",
       " {'data': {'source': '75', 'target': '5087'}},\n",
       " {'data': {'source': '76', 'target': '5087'}},\n",
       " {'data': {'source': '77', 'target': '5087'}},\n",
       " {'data': {'source': '78', 'target': '5087'}},\n",
       " {'data': {'source': '79', 'target': '5087'}},\n",
       " {'data': {'id': '50', 'label': '50'}, 'position': {'x': 1.0, 'y': 16676.0}},\n",
       " {'data': {'id': '51', 'label': '51'}, 'position': {'x': 18.0, 'y': 17129.0}},\n",
       " {'data': {'id': '52', 'label': '52'}, 'position': {'x': 3.0, 'y': 4544.0}},\n",
       " {'data': {'id': '53', 'label': '53'}, 'position': {'x': 11.0, 'y': 15689.0}},\n",
       " {'data': {'id': '54', 'label': '54'}, 'position': {'x': 6.0, 'y': 7257.0}},\n",
       " {'data': {'id': '55', 'label': '55'}, 'position': {'x': 1.0, 'y': 11555.0}},\n",
       " {'data': {'id': '56', 'label': '56'}, 'position': {'x': 11.0, 'y': 13385.0}},\n",
       " {'data': {'id': '57', 'label': '57'}, 'position': {'x': 18.0, 'y': 1665.0}},\n",
       " {'data': {'id': '58', 'label': '58'}, 'position': {'x': 16.0, 'y': 13142.0}},\n",
       " {'data': {'id': '59', 'label': '59'}, 'position': {'x': 16.0, 'y': 6192.0}},\n",
       " {'data': {'id': '60', 'label': '60'}, 'position': {'x': 4.0, 'y': 18835.0}},\n",
       " {'data': {'id': '61', 'label': '61'}, 'position': {'x': 14.0, 'y': 11195.0}},\n",
       " {'data': {'id': '62', 'label': '62'}, 'position': {'x': 15.0, 'y': 5873.0}},\n",
       " {'data': {'id': '63', 'label': '63'}, 'position': {'x': 9.0, 'y': 17642.0}},\n",
       " {'data': {'id': '64', 'label': '64'}, 'position': {'x': 6.0, 'y': 13532.0}},\n",
       " {'data': {'id': '65', 'label': '65'}, 'position': {'x': 10.0, 'y': 1000.0}},\n",
       " {'data': {'id': '66', 'label': '66'}, 'position': {'x': 8.0, 'y': 2748.0}},\n",
       " {'data': {'id': '67', 'label': '67'}, 'position': {'x': 9.0, 'y': 11816.0}},\n",
       " {'data': {'id': '68', 'label': '68'}, 'position': {'x': 11.0, 'y': 12662.0}},\n",
       " {'data': {'id': '69', 'label': '69'}, 'position': {'x': 18.0, 'y': 4424.0}},\n",
       " {'data': {'id': '70', 'label': '70'}, 'position': {'x': 6.0, 'y': 8377.0}},\n",
       " {'data': {'id': '71', 'label': '71'}, 'position': {'x': 11.0, 'y': 14575.0}},\n",
       " {'data': {'id': '72', 'label': '72'}, 'position': {'x': 7.0, 'y': 2803.0}},\n",
       " {'data': {'id': '73', 'label': '73'}, 'position': {'x': 18.0, 'y': 9852.0}},\n",
       " {'data': {'id': '74', 'label': '74'}, 'position': {'x': 15.0, 'y': 5281.0}},\n",
       " {'data': {'id': '75', 'label': '75'}, 'position': {'x': 11.0, 'y': 18942.0}}]"
      ]
     },
     "execution_count": 202,
     "metadata": {},
     "output_type": "execute_result"
    }
   ],
   "source": [
    "elements[:-30]"
   ]
  },
  {
   "cell_type": "code",
   "execution_count": 203,
   "metadata": {},
   "outputs": [
    {
     "data": {
      "text/plain": [
       "260"
      ]
     },
     "execution_count": 203,
     "metadata": {},
     "output_type": "execute_result"
    }
   ],
   "source": [
    "len(elements)"
   ]
  },
  {
   "cell_type": "code",
   "execution_count": 205,
   "metadata": {},
   "outputs": [],
   "source": [
    "import  pickle\n",
    "\n",
    "\n",
    "pickleFile = open(\"pickle.txt\", 'wb')\n",
    "pickle.dump(elements, pickleFile)\n",
    "pickleFile.close()"
   ]
  },
  {
   "cell_type": "code",
   "execution_count": null,
   "metadata": {},
   "outputs": [],
   "source": [
    "#https://dash.plot.ly/cytoscape/layout"
   ]
  },
  {
   "cell_type": "code",
   "execution_count": null,
   "metadata": {},
   "outputs": [],
   "source": [
    "# can also use profile pics as nodes\n",
    "#https://dash.plot.ly/cytoscape/styling"
   ]
  }
 ],
 "metadata": {
  "kernelspec": {
   "display_name": "tweet_analysis",
   "language": "python",
   "name": "tweet_analysis"
  },
  "language_info": {
   "codemirror_mode": {
    "name": "ipython",
    "version": 3
   },
   "file_extension": ".py",
   "mimetype": "text/x-python",
   "name": "python",
   "nbconvert_exporter": "python",
   "pygments_lexer": "ipython3",
   "version": "3.6.10"
  }
 },
 "nbformat": 4,
 "nbformat_minor": 4
}
